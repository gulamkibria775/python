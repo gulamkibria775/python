{
 "cells": [
  {
   "cell_type": "code",
   "execution_count": 1,
   "id": "d504735d",
   "metadata": {},
   "outputs": [],
   "source": [
    "# Python Output"
   ]
  },
  {
   "cell_type": "code",
   "execution_count": 2,
   "id": "67c073da",
   "metadata": {},
   "outputs": [
    {
     "name": "stdout",
     "output_type": "stream",
     "text": [
      "hello world\n"
     ]
    }
   ],
   "source": [
    "print(\"hello world\")"
   ]
  },
  {
   "cell_type": "code",
   "execution_count": 3,
   "id": "449845a4",
   "metadata": {},
   "outputs": [
    {
     "name": "stdout",
     "output_type": "stream",
     "text": [
      "45.56\n"
     ]
    }
   ],
   "source": [
    "print(45.56)"
   ]
  },
  {
   "cell_type": "code",
   "execution_count": 4,
   "id": "dcc653c9",
   "metadata": {},
   "outputs": [
    {
     "name": "stdout",
     "output_type": "stream",
     "text": [
      "hello 3 4 True False\n"
     ]
    }
   ],
   "source": [
    "print(\"hello\",3,4,True,False)"
   ]
  },
  {
   "cell_type": "code",
   "execution_count": 5,
   "id": "40c35753",
   "metadata": {},
   "outputs": [
    {
     "name": "stdout",
     "output_type": "stream",
     "text": [
      "hello|3|4|True|False\n"
     ]
    }
   ],
   "source": [
    "print(\"hello\",3,4,True,False,sep='|')"
   ]
  },
  {
   "cell_type": "code",
   "execution_count": 6,
   "id": "6ecdfac1",
   "metadata": {},
   "outputs": [
    {
     "name": "stdout",
     "output_type": "stream",
     "text": [
      "hello\n",
      "world\n"
     ]
    }
   ],
   "source": [
    "print(\"hello\")\n",
    "print(\"world\")"
   ]
  },
  {
   "cell_type": "code",
   "execution_count": 7,
   "id": "59ff4ee2",
   "metadata": {},
   "outputs": [
    {
     "name": "stdout",
     "output_type": "stream",
     "text": [
      "hello-world\n"
     ]
    }
   ],
   "source": [
    "print(\"hello\",end=\"-\")\n",
    "print(\"world\")"
   ]
  },
  {
   "cell_type": "code",
   "execution_count": 8,
   "id": "c3dcb721",
   "metadata": {},
   "outputs": [],
   "source": [
    "# Data type"
   ]
  },
  {
   "cell_type": "code",
   "execution_count": 11,
   "id": "46b1a26b",
   "metadata": {},
   "outputs": [
    {
     "name": "stdout",
     "output_type": "stream",
     "text": [
      "7\n",
      "100.0\n"
     ]
    }
   ],
   "source": [
    "#integer\n",
    "print(7)\n",
    "# 1*10^2\n",
    "print(1e2)"
   ]
  },
  {
   "cell_type": "code",
   "execution_count": 12,
   "id": "1e2c015d",
   "metadata": {},
   "outputs": [
    {
     "name": "stdout",
     "output_type": "stream",
     "text": [
      "5.44\n",
      "170.0\n"
     ]
    }
   ],
   "source": [
    "#decimal and float\n",
    "print(5.44)\n",
    "print(1.7e2)"
   ]
  },
  {
   "cell_type": "code",
   "execution_count": 13,
   "id": "c455aedf",
   "metadata": {},
   "outputs": [
    {
     "name": "stdout",
     "output_type": "stream",
     "text": [
      "True\n",
      "False\n"
     ]
    }
   ],
   "source": [
    "# Boolean\n",
    "print(True)\n",
    "print(False)"
   ]
  },
  {
   "cell_type": "code",
   "execution_count": 14,
   "id": "365a5260",
   "metadata": {},
   "outputs": [
    {
     "name": "stdout",
     "output_type": "stream",
     "text": [
      "hello world\n"
     ]
    }
   ],
   "source": [
    "# text/String\n",
    "print(\"hello world\")"
   ]
  },
  {
   "cell_type": "code",
   "execution_count": 15,
   "id": "659802a3",
   "metadata": {},
   "outputs": [
    {
     "name": "stdout",
     "output_type": "stream",
     "text": [
      "(4+3j)\n"
     ]
    }
   ],
   "source": [
    "# complex\n",
    "print(4+3j)"
   ]
  },
  {
   "cell_type": "code",
   "execution_count": 16,
   "id": "d4713362",
   "metadata": {},
   "outputs": [
    {
     "name": "stdout",
     "output_type": "stream",
     "text": [
      "[2, 3, 4]\n"
     ]
    }
   ],
   "source": [
    "#list\n",
    "print([2,3,4])"
   ]
  },
  {
   "cell_type": "code",
   "execution_count": 18,
   "id": "24c9d1f8",
   "metadata": {},
   "outputs": [
    {
     "name": "stdout",
     "output_type": "stream",
     "text": [
      "3 4 5\n"
     ]
    }
   ],
   "source": [
    "#tuple\n",
    "print(3,4,5)"
   ]
  },
  {
   "cell_type": "code",
   "execution_count": 19,
   "id": "da13ff3a",
   "metadata": {},
   "outputs": [
    {
     "name": "stdout",
     "output_type": "stream",
     "text": [
      "{3, 4, 5}\n"
     ]
    }
   ],
   "source": [
    "# set\n",
    "print({3,4,5})"
   ]
  },
  {
   "cell_type": "code",
   "execution_count": 20,
   "id": "dbc46f34",
   "metadata": {},
   "outputs": [
    {
     "name": "stdout",
     "output_type": "stream",
     "text": [
      "{'name': 'Kibria', 'work': 'Data science'}\n"
     ]
    }
   ],
   "source": [
    "# Dictionary\n",
    "print({\"name\":\"Kibria\",\"work\":\"Data science\"})"
   ]
  },
  {
   "cell_type": "code",
   "execution_count": 22,
   "id": "ec76913c",
   "metadata": {},
   "outputs": [
    {
     "data": {
      "text/plain": [
       "list"
      ]
     },
     "execution_count": 22,
     "metadata": {},
     "output_type": "execute_result"
    }
   ],
   "source": [
    "# type\n",
    "type([5,3,5])"
   ]
  },
  {
   "cell_type": "code",
   "execution_count": 23,
   "id": "3aacd681",
   "metadata": {},
   "outputs": [],
   "source": [
    "# variable\n",
    "# 1.  static vs dynamic typing\n",
    "# 2. static vs dynamic binding\n",
    "# 3.stylish  declaration techiques"
   ]
  },
  {
   "cell_type": "code",
   "execution_count": 24,
   "id": "a2defb77",
   "metadata": {},
   "outputs": [
    {
     "name": "stdout",
     "output_type": "stream",
     "text": [
      "5\n"
     ]
    }
   ],
   "source": [
    "# dynamic typing\n",
    "a=5\n",
    "print(a)"
   ]
  },
  {
   "cell_type": "code",
   "execution_count": 25,
   "id": "1f6035f2",
   "metadata": {},
   "outputs": [
    {
     "ename": "SyntaxError",
     "evalue": "invalid syntax (2063744069.py, line 2)",
     "output_type": "error",
     "traceback": [
      "  \u001b[36mCell\u001b[39m\u001b[36m \u001b[39m\u001b[32mIn[25]\u001b[39m\u001b[32m, line 2\u001b[39m\n\u001b[31m    \u001b[39m\u001b[31mint a=5\u001b[39m\n        ^\n\u001b[31mSyntaxError\u001b[39m\u001b[31m:\u001b[39m invalid syntax\n"
     ]
    }
   ],
   "source": [
    "# static typing\n",
    "int a=5\n",
    "print(a)"
   ]
  },
  {
   "cell_type": "code",
   "execution_count": 26,
   "id": "d711290d",
   "metadata": {},
   "outputs": [
    {
     "name": "stdout",
     "output_type": "stream",
     "text": [
      "5\n",
      "kibria\n"
     ]
    }
   ],
   "source": [
    "# dynamic binding\n",
    "a=5\n",
    "print(5)\n",
    "a=\"kibria\"\n",
    "print(a)"
   ]
  },
  {
   "cell_type": "code",
   "execution_count": 28,
   "id": "eec90e07",
   "metadata": {},
   "outputs": [
    {
     "name": "stdout",
     "output_type": "stream",
     "text": [
      "3 4 5\n"
     ]
    }
   ],
   "source": [
    "# stylish\n",
    "a,b,c=3,4,5\n",
    "print(a,b,c)"
   ]
  },
  {
   "cell_type": "code",
   "execution_count": 29,
   "id": "aeef4e9f",
   "metadata": {},
   "outputs": [],
   "source": [
    "# Comment\n",
    "a=4\n",
    "# b=5"
   ]
  },
  {
   "cell_type": "code",
   "execution_count": 30,
   "id": "3ce21dda",
   "metadata": {},
   "outputs": [],
   "source": [
    "# 4. keywords and identifiers"
   ]
  },
  {
   "cell_type": "code",
   "execution_count": 32,
   "id": "283d7d1e",
   "metadata": {},
   "outputs": [
    {
     "name": "stdout",
     "output_type": "stream",
     "text": [
      "kibria\n",
      "kibria\n"
     ]
    }
   ],
   "source": [
    "# you cann't start with a digit\n",
    "name=\"kibria\"\n",
    "print(name)\n",
    "# you can use special char _\n",
    "_=\"kibria\"\n",
    "print(_)\n",
    "# you can use any keyword\n"
   ]
  },
  {
   "cell_type": "code",
   "execution_count": 2,
   "id": "2aea7def",
   "metadata": {},
   "outputs": [
    {
     "name": "stdout",
     "output_type": "stream",
     "text": [
      "kibria\n"
     ]
    }
   ],
   "source": [
    "# User input\n",
    "name=input(\"enter your name\")\n",
    "print(name)"
   ]
  },
  {
   "cell_type": "code",
   "execution_count": null,
   "id": "e3efbfbe",
   "metadata": {},
   "outputs": [
    {
     "name": "stdout",
     "output_type": "stream",
     "text": [
      "sum=: 70\n"
     ]
    }
   ],
   "source": [
    "fnum=int(input(\"enter your first num :\"))\n",
    "snum=int(input(\"enter your num: \"))\n",
    "sum=fnum+snum\n",
    "print(\"sum =\",sum)"
   ]
  },
  {
   "cell_type": "code",
   "execution_count": 5,
   "id": "5ef8692a",
   "metadata": {},
   "outputs": [
    {
     "data": {
      "text/plain": [
       "'45'"
      ]
     },
     "execution_count": 5,
     "metadata": {},
     "output_type": "execute_result"
    }
   ],
   "source": [
    "# type conversion\n",
    "# str -> int\n",
    "int(4)\n",
    "# int -> str\n",
    "str(45)"
   ]
  },
  {
   "cell_type": "code",
   "execution_count": 7,
   "id": "447d0411",
   "metadata": {},
   "outputs": [],
   "source": [
    "# Literals\n",
    "a=0b1010 #binary\n",
    "b=10      #decimal\n",
    "c=0o300   #octal\n",
    "d=0xA10C  #hexa decimal\n",
    "\n"
   ]
  },
  {
   "cell_type": "code",
   "execution_count": 8,
   "id": "d152fe6e",
   "metadata": {},
   "outputs": [],
   "source": [
    "string=\"this is python\"\n",
    "string=\"this is python\"\n",
    "char='c'\n",
    "multiline_str=\"\"\" this is is multiline string with more than one line\"\"\""
   ]
  },
  {
   "cell_type": "code",
   "execution_count": 10,
   "id": "67e88e16",
   "metadata": {},
   "outputs": [
    {
     "name": "stdout",
     "output_type": "stream",
     "text": [
      "😀😆🤣\n"
     ]
    }
   ],
   "source": [
    "unicode=u\"\\U0001f600\\U0001F606\\U0001F923\"\n",
    "print(unicode)"
   ]
  },
  {
   "cell_type": "code",
   "execution_count": 11,
   "id": "e8254877",
   "metadata": {},
   "outputs": [
    {
     "name": "stdout",
     "output_type": "stream",
     "text": [
      "raw \\n string\n"
     ]
    }
   ],
   "source": [
    "raw_str=r\"raw \\n string\"\n",
    "print(raw_str)"
   ]
  },
  {
   "cell_type": "code",
   "execution_count": null,
   "id": "c82f1387",
   "metadata": {},
   "outputs": [],
   "source": []
  }
 ],
 "metadata": {
  "kernelspec": {
   "display_name": "Python (dl_env)",
   "language": "python",
   "name": "dl_env"
  },
  "language_info": {
   "codemirror_mode": {
    "name": "ipython",
    "version": 3
   },
   "file_extension": ".py",
   "mimetype": "text/x-python",
   "name": "python",
   "nbconvert_exporter": "python",
   "pygments_lexer": "ipython3",
   "version": "3.12.3"
  }
 },
 "nbformat": 4,
 "nbformat_minor": 5
}
