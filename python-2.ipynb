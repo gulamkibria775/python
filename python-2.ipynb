{
 "cells": [
  {
   "cell_type": "code",
   "execution_count": 2,
   "id": "58aac40e",
   "metadata": {},
   "outputs": [],
   "source": [
    "\n",
    "# Operators in Python\n",
    "\n",
    "#         Arithmetic Operators\n",
    "#         Relational Operators\n",
    "#         Logical Operators\n",
    "#         Bitwise Operators\n",
    "#         Assignment Operators\n",
    "#         Membership Operators\n",
    "\n"
   ]
  },
  {
   "cell_type": "code",
   "execution_count": 4,
   "id": "b844c501",
   "metadata": {},
   "outputs": [
    {
     "name": "stdout",
     "output_type": "stream",
     "text": [
      "10\n",
      "2\n",
      "16\n",
      "2.5\n",
      "2\n",
      "1\n",
      "25\n"
     ]
    }
   ],
   "source": [
    "# Arithmetic Operators\n",
    "print(4+6)\n",
    "print(5-3)\n",
    "print(4 *4)\n",
    "print(5/2)\n",
    "print(5//2)\n",
    "print(5%2)\n",
    "print(5**2)"
   ]
  },
  {
   "cell_type": "code",
   "execution_count": 5,
   "id": "c9160213",
   "metadata": {},
   "outputs": [
    {
     "name": "stdout",
     "output_type": "stream",
     "text": [
      "False\n",
      "True\n",
      "True\n",
      "True\n",
      "True\n",
      "True\n"
     ]
    }
   ],
   "source": [
    "# Relational operator\n",
    "print(4>5)\n",
    "print(3<6)\n",
    "print(4>=3)\n",
    "print(4<=4)\n",
    "print(5==5)\n",
    "print(5!=4)"
   ]
  },
  {
   "cell_type": "code",
   "execution_count": 6,
   "id": "0ea46adc",
   "metadata": {},
   "outputs": [
    {
     "name": "stdout",
     "output_type": "stream",
     "text": [
      "0\n",
      "1\n",
      "False\n"
     ]
    }
   ],
   "source": [
    "# logical operator\n",
    "print(1 and 0)\n",
    "print(1 or 0)\n",
    "print(not 1)"
   ]
  },
  {
   "cell_type": "code",
   "execution_count": 8,
   "id": "cc617a35",
   "metadata": {},
   "outputs": [
    {
     "name": "stdout",
     "output_type": "stream",
     "text": [
      "2\n",
      "3\n",
      "1\n",
      "-4\n",
      "1\n",
      "20\n"
     ]
    }
   ],
   "source": [
    "# bitwise operator\n",
    "print(2 & 3)\n",
    "print(2 | 3)\n",
    "print( 2^3)\n",
    "print(~3)\n",
    "print(4>>2)\n",
    "print(5<<2)"
   ]
  },
  {
   "cell_type": "code",
   "execution_count": 10,
   "id": "68c96e05",
   "metadata": {},
   "outputs": [
    {
     "name": "stdout",
     "output_type": "stream",
     "text": [
      "5\n",
      "1\n"
     ]
    }
   ],
   "source": [
    "# Assigment operator\n",
    "a=5\n",
    "print(a)\n",
    "a%=2 # a=a%5\n",
    "print(a)"
   ]
  },
  {
   "cell_type": "code",
   "execution_count": 11,
   "id": "67fdb7fe",
   "metadata": {},
   "outputs": [
    {
     "name": "stdout",
     "output_type": "stream",
     "text": [
      "False\n"
     ]
    }
   ],
   "source": [
    "# Membership operator\n",
    "print(\"D\" not in \"Done\")"
   ]
  },
  {
   "cell_type": "code",
   "execution_count": 13,
   "id": "d7e044f7",
   "metadata": {},
   "outputs": [
    {
     "name": "stdout",
     "output_type": "stream",
     "text": [
      "5 4 4\n",
      "13\n"
     ]
    }
   ],
   "source": [
    "# Find the sum of a three digit number entered by user\n",
    "\n",
    "number =int(input(\"input enter a number: \"))\n",
    "a=number%10\n",
    "number=number//10\n",
    "b=number%10\n",
    "number//10\n",
    "c=number%10\n",
    "print(a,b,c)\n",
    "print(a+b+c)"
   ]
  },
  {
   "cell_type": "code",
   "execution_count": 14,
   "id": "f48b7701",
   "metadata": {},
   "outputs": [],
   "source": [
    "# If else "
   ]
  },
  {
   "cell_type": "code",
   "execution_count": null,
   "id": "f0bcd096",
   "metadata": {},
   "outputs": [
    {
     "name": "stdout",
     "output_type": "stream",
     "text": [
      "incorred password\n",
      "your are not access\n"
     ]
    }
   ],
   "source": [
    "# login program and Indentation\n",
    "# email=kibria@gmail.com\n",
    "# password=1234\n",
    "\n",
    "email=input(\"enter your gmail\")\n",
    "password=input(\"inter your password\")\n",
    "\n",
    "if email==\"kibria@gmail.com\" and password == \"1234\":\n",
    "    print(\"welcome\")\n",
    "elif email== \"kibria@gmail.com\" and password !=\"1234\":\n",
    "    print(\"incorred password\")\n",
    "    password=input(\"enter password\")\n",
    "    if password==\"1234\":\n",
    "        print(\"welcome finally\")\n",
    "    else:\n",
    "        print(\"your are not access\")\n",
    "else:\n",
    "    print(\"not corrected\")            \n"
   ]
  },
  {
   "cell_type": "code",
   "execution_count": 18,
   "id": "ad915bda",
   "metadata": {},
   "outputs": [],
   "source": [
    "# # if-else example\n",
    "# 1. find minimum of 3 given number\n",
    "# 2. menu driven program"
   ]
  },
  {
   "cell_type": "code",
   "execution_count": 20,
   "id": "7e50484b",
   "metadata": {},
   "outputs": [
    {
     "name": "stdout",
     "output_type": "stream",
     "text": [
      "smallest:  3\n"
     ]
    }
   ],
   "source": [
    "a=int(input(\"enter first num:\"))\n",
    "b=int(input(\"enter second num:\"))\n",
    "c=int(input(\"enter third num:\"))\n",
    "if a<b and a<c:\n",
    "    print(\"smallest: \",a)\n",
    "elif b<a and b<c:\n",
    "    print(\"smallest: \",b)\n",
    "else:\n",
    "    print(\"smallest:\",c)   "
   ]
  },
  {
   "cell_type": "code",
   "execution_count": 22,
   "id": "5e16eff5",
   "metadata": {},
   "outputs": [
    {
     "name": "stdout",
     "output_type": "stream",
     "text": [
      "pin change\n"
     ]
    }
   ],
   "source": [
    "# menu driven calculator\n",
    "menu=input(\"\"\"\n",
    "Hi! how can I help you.\n",
    "1. Enter 1 for pin change\n",
    "2. Enter 2 for balance check\n",
    "3. Enter 3 for withdrawl\n",
    "4. Enter 4 for exit\n",
    "\"\"\")\n",
    "\n",
    "if menu==\"1\":\n",
    "    print('pin change')\n",
    "elif menu==\"2\": \n",
    "    print(\"blance\")\n",
    "else:\n",
    "    print(\"exit\")       "
   ]
  },
  {
   "cell_type": "code",
   "execution_count": 23,
   "id": "c4db35a6",
   "metadata": {},
   "outputs": [
    {
     "data": {
      "text/plain": [
       "12.0"
      ]
     },
     "execution_count": 23,
     "metadata": {},
     "output_type": "execute_result"
    }
   ],
   "source": [
    "#python module\n",
    "import math\n",
    "math.sqrt(144)"
   ]
  },
  {
   "cell_type": "code",
   "execution_count": 25,
   "id": "8706159d",
   "metadata": {},
   "outputs": [
    {
     "name": "stdout",
     "output_type": "stream",
     "text": [
      "['False', 'None', 'True', 'and', 'as', 'assert', 'async', 'await', 'break', 'class', 'continue', 'def', 'del', 'elif', 'else', 'except', 'finally', 'for', 'from', 'global', 'if', 'import', 'in', 'is', 'lambda', 'nonlocal', 'not', 'or', 'pass', 'raise', 'return', 'try', 'while', 'with', 'yield']\n"
     ]
    }
   ],
   "source": [
    "import keyword\n",
    "print(keyword.kwlist)"
   ]
  },
  {
   "cell_type": "code",
   "execution_count": 26,
   "id": "89c89532",
   "metadata": {},
   "outputs": [
    {
     "name": "stdout",
     "output_type": "stream",
     "text": [
      "84\n"
     ]
    }
   ],
   "source": [
    "# random\n",
    "import random\n",
    "print(random.randint(1,100))"
   ]
  },
  {
   "cell_type": "code",
   "execution_count": 28,
   "id": "571740ff",
   "metadata": {},
   "outputs": [
    {
     "name": "stdout",
     "output_type": "stream",
     "text": [
      "2025-08-04 12:49:21.932401\n"
     ]
    }
   ],
   "source": [
    "# Data time\n",
    "import datetime\n",
    "print(datetime.datetime.now())"
   ]
  },
  {
   "cell_type": "code",
   "execution_count": 30,
   "id": "e66e0806",
   "metadata": {},
   "outputs": [
    {
     "name": "stdout",
     "output_type": "stream",
     "text": [
      "\n",
      "Please wait a moment while I gather a list of all available modules...\n",
      "\n"
     ]
    },
    {
     "name": "stderr",
     "output_type": "stream",
     "text": [
      "2025-08-04 12:50:11.443051: I tensorflow/core/util/port.cc:153] oneDNN custom operations are on. You may see slightly different numerical results due to floating-point round-off errors from different computation orders. To turn them off, set the environment variable `TF_ENABLE_ONEDNN_OPTS=0`.\n",
      "2025-08-04 12:50:11.534774: E external/local_xla/xla/stream_executor/cuda/cuda_fft.cc:467] Unable to register cuFFT factory: Attempting to register factory for plugin cuFFT when one has already been registered\n",
      "WARNING: All log messages before absl::InitializeLog() is called are written to STDERR\n",
      "E0000 00:00:1754290211.568158   17262 cuda_dnn.cc:8579] Unable to register cuDNN factory: Attempting to register factory for plugin cuDNN when one has already been registered\n",
      "E0000 00:00:1754290211.578209   17262 cuda_blas.cc:1407] Unable to register cuBLAS factory: Attempting to register factory for plugin cuBLAS when one has already been registered\n",
      "W0000 00:00:1754290211.650774   17262 computation_placer.cc:177] computation placer already registered. Please check linkage and avoid linking the same target more than once.\n",
      "W0000 00:00:1754290211.650791   17262 computation_placer.cc:177] computation placer already registered. Please check linkage and avoid linking the same target more than once.\n",
      "W0000 00:00:1754290211.650793   17262 computation_placer.cc:177] computation placer already registered. Please check linkage and avoid linking the same target more than once.\n",
      "W0000 00:00:1754290211.650794   17262 computation_placer.cc:177] computation placer already registered. Please check linkage and avoid linking the same target more than once.\n",
      "2025-08-04 12:50:11.660064: I tensorflow/core/platform/cpu_feature_guard.cc:210] This TensorFlow binary is optimized to use available CPU instructions in performance-critical operations.\n",
      "To enable the following instructions: AVX2 AVX512F AVX512_VNNI AVX512_BF16 FMA, in other operations, rebuild TensorFlow with the appropriate compiler flags.\n"
     ]
    },
    {
     "name": "stdout",
     "output_type": "stream",
     "text": [
      "IPython             cgitb               jsonschema          safetensors\n",
      "PIL                 chardet             jsonschema_specifications sched\n",
      "__future__          charset_normalizer  jupyter             scipy\n",
      "__hello__           chunk               jupyter_client      scmrepo\n",
      "__phello__          clang               jupyter_core        seaborn\n",
      "_abc                click               jupyter_events      secrets\n",
      "_aix_support        click_didyoumean    jupyter_lsp         select\n",
      "_argon2_cffi_bindings click_plugins       jupyter_server      selectors\n",
      "_ast                click_repl          jupyter_server_terminals semver\n",
      "_asyncio            cloudpickle         jupyterlab          send2trash\n",
      "_bisect             cmath               jupyterlab_pygments sentry_sdk\n",
      "_blake2             cmd                 jupyterlab_server   setuptools\n",
      "_bz2                code                jupyterlab_widgets  shap\n",
      "_cffi_backend       codecs              kanren              shellingham\n",
      "_codecs             codeop              keras               shelve\n",
      "_codecs_cn          collections         keyword             shlex\n",
      "_codecs_hk          colorama            kiwisolver          shortuuid\n",
      "_codecs_iso2022     colorsys            kombu               shtab\n",
      "_codecs_jp          comm                lib2to3             shutil\n",
      "_codecs_kr          compileall          lightgbm            signal\n",
      "_codecs_tw          concurrent          linecache           site\n",
      "_collections        configobj           llvmlite            sitecustomize\n",
      "_collections_abc    configparser        locale              six\n",
      "_compat_pickle      cons                logging             sklearn\n",
      "_compression        contextlib          lxml                slicer\n",
      "_contextvars        contextvars         lzma                slugify\n",
      "_crypt              contourpy           mailbox             smmap\n",
      "_csv                cookiecutter        mailcap             smtplib\n",
      "_ctypes             copy                mako                sndhdr\n",
      "_ctypes_test        copyreg             markdown            sniffio\n",
      "_curses             crypt               markdown_it         snowballstemmer\n",
      "_curses_panel       cryptography        markupsafe          socket\n",
      "_datetime           csv                 marshal             socketserver\n",
      "_dbm                ctypes              marshmallow         soupsieve\n",
      "_decimal            curses              math                sphinx\n",
      "_distutils_hack     cycler              matplotlib          sphinx_rtd_theme\n",
      "_distutils_system_mod dacite              matplotlib_inline   sphinxarg\n",
      "_elementtree        dagshub             mdurl               spwd\n",
      "_functools          dagshub_annotation_converter mimetypes           sqlalchemy\n",
      "_gdbm               databricks          mistune             sqlite3\n",
      "_hashlib            dataclasses         ml_dtypes           sqlparse\n",
      "_heapq              dataclasses_json    mlflow              sqltrie\n",
      "_imp                datasets            mmap                sre_compile\n",
      "_io                 datetime            modulefinder        sre_constants\n",
      "_json               dateutil            morfessor           sre_parse\n",
      "_kernel_lib         dbm                 mpmath              ssl\n",
      "_locale             debugpy             multidict           stack_data\n",
      "_lsprof             decimal             multipledispatch    starlette\n",
      "_lzma               decorator           multiprocess        stat\n",
      "_markupbase         defusedxml          multiprocessing     statistics\n",
      "_md5                dictdiffer          mypy_extensions     statsmodels\n",
      "_multibytecodec     difflib             namex               string\n",
      "_multiprocess       diffusers           nbclient            stringprep\n",
      "_multiprocessing    dill                nbconvert           struct\n",
      "_opcode             dis                 nbformat            subprocess\n",
      "_operator           diskcache           nest_asyncio        sunau\n",
      "_osx_support        distro              netrc               sympy\n",
      "_pickle             docker              networkx            symtable\n",
      "_posixshmem         doctest             nltk                sys\n",
      "_posixsubprocess    docutils            nntplib             sysconfig\n",
      "_py_abc             dpath               notebook            syslog\n",
      "_pydatetime         dulwich             notebook_shim       tabnanny\n",
      "_pydecimal          dvc                 ntpath              tabulate\n",
      "_pyio               dvc_data            nturl2path          tarfile\n",
      "_pylong             dvc_http            numba               telnetlib\n",
      "_queue              dvc_objects         numbers             tempfile\n",
      "_random             dvc_render          numpy               tenacity\n",
      "_remote_module_non_scriptable dvc_studio_client   nvidia              tensorboard\n",
      "_ruamel_yaml        dvc_task            omegaconf           tensorboard_data_server\n",
      "_sha1               email               opcode              tensorflow\n",
      "_sha2               encodings           openpyxl            termcolor\n",
      "_sha3               ensurepip           operator            terminado\n",
      "_signal             entrypoints         opt_einsum          termios\n",
      "_sitebuiltins       enum                optparse            test\n",
      "_socket             errno               optree              text_unidecode\n",
      "_sqlite3            et_xmlfile          orjson              textwrap\n",
      "_sre                etuples             os                  this\n",
      "_ssl                evaluate            ossaudiodev         threading\n",
      "_stat               executing           overrides           threadpoolctl\n",
      "_statistics         fastapi             packaging           time\n",
      "_string             fastjsonschema      pandas              timeit\n",
      "_strptime           faulthandler        pandocfilters       tinycss2\n",
      "_struct             fcntl               parso               tkinter\n",
      "_symtable           filecmp             pasta               tlz\n",
      "_sysconfigdata__linux_x86_64-linux-gnu fileinput           pathlib             token\n",
      "_sysconfigdata__x86_64-linux-gnu filelock            pathspec            tokenize\n",
      "_testbuffer         flask               pathvalidate        tokenizers\n",
      "_testcapi           flask_cors          patsy               tomlkit\n",
      "_testclinic         flatbuffers         pdb                 tomllib\n",
      "_testimportmultiple flatten_dict        pexpect             toolz\n",
      "_testinternalcapi   fnmatch             pickle              torch\n",
      "_testmultiphase     fontTools           pickletools         torchaudio\n",
      "_testsinglephase    formulae            pip                 torchgen\n",
      "_thread             fqdn                pipes               torchvision\n",
      "_threading_local    fractions           pipx                torio\n",
      "_tkinter            frozenlist          pkg_resources       tornado\n",
      "_tokenize           fsspec              pkgutil             tqdm\n",
      "_tracemalloc        ftplib              platform            trace\n",
      "_typing             functools           platformdirs        traceback\n",
      "_warnings           functorch           plistlib            tracemalloc\n",
      "_weakref            funcy               polars              traitlets\n",
      "_weakrefset         gast                poplib              transformers\n",
      "_xxinterpchannels   gc                  posix               treelib\n",
      "_xxsubinterpreters  genericpath         posixpath           triton\n",
      "_xxtestfuzz         getopt              pprint              tty\n",
      "_yaml               getpass             profile             turtle\n",
      "_zoneinfo           gettext             prometheus_client   typer\n",
      "abc                 git                 prompt_toolkit      types\n",
      "absl                gitdb               propcache           typing\n",
      "accelerate          glob                pstats              typing_extensions\n",
      "aifc                gql                 psutil              typing_inspect\n",
      "aiohappyeyeballs    grandalf            pty                 typing_inspection\n",
      "aiohttp             graphene            ptyprocess          tzdata\n",
      "aiohttp_retry       graphlib            public              unicodedata\n",
      "aiosignal           graphql             pure_eval           unification\n",
      "alabaster           graphql_relay       pwd                 unittest\n",
      "alembic             graphviz            py_compile          uri_template\n",
      "amqp                greenlet            pyarrow             urllib\n",
      "annotated_types     grp                 pyasn1              urllib3\n",
      "antigravity         grpc                pyasn1_modules      userpath\n",
      "antlr4              gto                 pyclbr              uu\n",
      "anyio               gunicorn            pycparser           uuid\n",
      "appdirs             gzip                pydantic            uvicorn\n",
      "argcomplete         h11                 pydantic_core       validate\n",
      "argon2              h5netcdf            pydevd_plugins      venv\n",
      "argparse            h5py                pydoc               vine\n",
      "array               hashlib             pydoc_data          voluptuous\n",
      "arrow               heapq               pydot               wandb\n",
      "arviz               hf_xet              pyexpat             warnings\n",
      "ast                 hmac                pygit2              wave\n",
      "asttokens           html                pygments            wcwidth\n",
      "astunparse          http                pygtrie             weakref\n",
      "async_lru           httpcore            pylab               webbrowser\n",
      "asyncio             httpx               pymc                webcolors\n",
      "asyncssh            huggingface_hub     pymer4              webencodings\n",
      "atexit              hydra               pyngrok             websocket\n",
      "attr                idna                pyparsing           werkzeug\n",
      "attrs               imagesize           pyreadstat          wheel\n",
      "audioop             imaplib             pytensor            widgetsnbextension\n",
      "babel               imghdr              pythonjsonlogger    wordcloud\n",
      "backoff             importlib           pytz                wrapt\n",
      "bambi               importlib_metadata  queue               wsgiref\n",
      "base64              indicnlp            quopri              xarray\n",
      "bdb                 inspect             random              xarray_einstats\n",
      "billiard            io                  re                  xdrlib\n",
      "binaryornot         ipaddress           readline            xgboost\n",
      "binascii            ipykernel           referencing         xml\n",
      "bisect              ipykernel_launcher  regex               xmlrpc\n",
      "bleach              ipython_pygments_lexers reprlib             xxhash\n",
      "blinker             ipywidgets          requests            xxlimited\n",
      "boto3               isoduration         requests_toolbelt   xxlimited_35\n",
      "botocore            isympy              resource            xxsubtype\n",
      "bs4                 iterative_telemetry rfc3339_validator   yaml\n",
      "builtins            itertools           rfc3986_validator   yarl\n",
      "bz2                 itsdangerous        rich                zipapp\n",
      "cProfile            jedi                rlcompleter         zipfile\n",
      "cachetools          jinja2              roman_numerals      zipimport\n",
      "calendar            jmespath            rouge_score         zipp\n",
      "celery              joblib              rpds                zlib\n",
      "certifi             json                rsa                 zmq\n",
      "cffi                json5               runpy               zoneinfo\n",
      "cgi                 jsonpointer         s3transfer          \n",
      "\n",
      "Enter any module name to get more help.  Or, type \"modules spam\" to search\n",
      "for modules whose name or summary contain the string \"spam\".\n",
      "\n"
     ]
    }
   ],
   "source": [
    "help('modules')"
   ]
  },
  {
   "cell_type": "code",
   "execution_count": 31,
   "id": "6ede0486",
   "metadata": {},
   "outputs": [],
   "source": [
    "# Loops in Python\n",
    "\n",
    "#     Need for loops\n",
    "#     While Loop\n",
    "#     For Loop\n"
   ]
  },
  {
   "cell_type": "code",
   "execution_count": 32,
   "id": "03c36d27",
   "metadata": {},
   "outputs": [],
   "source": [
    "# While loop example -> program to print the table\n",
    "# Program -> Sum of all digits of a given number\n",
    "# Program -> keep accepting numbers from users till he/she enters a 0 and then find the avg"
   ]
  },
  {
   "cell_type": "code",
   "execution_count": 36,
   "id": "477c6a07",
   "metadata": {},
   "outputs": [
    {
     "name": "stdout",
     "output_type": "stream",
     "text": [
      "10 * 1 = 10\n",
      "10 * 2 = 20\n",
      "10 * 3 = 30\n",
      "10 * 4 = 40\n",
      "10 * 5 = 50\n",
      "10 * 6 = 60\n",
      "10 * 7 = 70\n",
      "10 * 8 = 80\n",
      "10 * 9 = 90\n",
      "10 * 10 = 100\n"
     ]
    }
   ],
   "source": [
    "number=int(input(\"enter a number:\"))\n",
    "i=1\n",
    "while i<11:\n",
    "    print(number, \"*\" , i ,\"=\",i*number)\n",
    "    i+=1"
   ]
  },
  {
   "cell_type": "code",
   "execution_count": 37,
   "id": "bb6368ef",
   "metadata": {},
   "outputs": [
    {
     "name": "stdout",
     "output_type": "stream",
     "text": [
      "1\n",
      "2\n",
      "limit cross\n"
     ]
    }
   ],
   "source": [
    "# while loop with else\n",
    "x=1\n",
    "while x<3:\n",
    "    print(x)\n",
    "    x+=1\n",
    "else:\n",
    "    print(\"limit cross\")    "
   ]
  },
  {
   "cell_type": "code",
   "execution_count": 38,
   "id": "5faeec71",
   "metadata": {},
   "outputs": [
    {
     "name": "stdout",
     "output_type": "stream",
     "text": [
      "guess higher number\n",
      "guess higher number\n",
      "guess higher number\n",
      "guess higher number\n",
      "guess higher number\n",
      "guess higher number\n",
      "guess higher number\n",
      "guess higher number\n",
      "guess lower  number\n",
      "guess lower  number\n",
      "correct guess\n",
      "attempts 11\n"
     ]
    }
   ],
   "source": [
    "# guessing game\n",
    "import random\n",
    "jackpot=random.randint(1,100)\n",
    "guess=int(input(\"enter a number:\"))\n",
    "counter=1\n",
    "while jackpot!=guess:\n",
    "    if guess<jackpot:\n",
    "        print(\"guess higher number\")\n",
    "    else:\n",
    "        print(\"guess lower  number\")   \n",
    "    guess=int(input(\"guess the number: \"))\n",
    "    counter+=1\n",
    "else:\n",
    "    print(\"correct guess\") \n",
    "    print(\"attempts\",counter)       "
   ]
  },
  {
   "cell_type": "code",
   "execution_count": 39,
   "id": "a4f7d533",
   "metadata": {},
   "outputs": [
    {
     "name": "stdout",
     "output_type": "stream",
     "text": [
      "1\n",
      "2\n",
      "3\n",
      "4\n"
     ]
    }
   ],
   "source": [
    "# for loop demo\n",
    "for i in {1,2,3,4}:\n",
    "    print(i)"
   ]
  },
  {
   "cell_type": "code",
   "execution_count": 42,
   "id": "234fd294",
   "metadata": {},
   "outputs": [
    {
     "name": "stdout",
     "output_type": "stream",
     "text": [
      "1 1000\n",
      "2 1100.0\n",
      "3 1210.0\n",
      "4 1331.0\n",
      "5 1464.1\n",
      "6 1610.51\n",
      "7 1771.56\n",
      "8 1948.72\n",
      "9 2143.59\n",
      "10 2357.95\n"
     ]
    }
   ],
   "source": [
    "# Program - The current population of a town is 10000. The population of the town is increasing at the rate of 10% per year. You have to write a program to find out the population at the end of each of the last 10 years.\n",
    "curr_pop=1000\n",
    "for i in range(1,11):\n",
    "    print(i,round(curr_pop,2))\n",
    "    curr_pop=curr_pop+curr_pop*.1\n",
    " "
   ]
  },
  {
   "cell_type": "code",
   "execution_count": null,
   "id": "85c53d13",
   "metadata": {},
   "outputs": [],
   "source": []
  }
 ],
 "metadata": {
  "kernelspec": {
   "display_name": "Python (dl_env)",
   "language": "python",
   "name": "dl_env"
  },
  "language_info": {
   "codemirror_mode": {
    "name": "ipython",
    "version": 3
   },
   "file_extension": ".py",
   "mimetype": "text/x-python",
   "name": "python",
   "nbconvert_exporter": "python",
   "pygments_lexer": "ipython3",
   "version": "3.12.3"
  }
 },
 "nbformat": 4,
 "nbformat_minor": 5
}
